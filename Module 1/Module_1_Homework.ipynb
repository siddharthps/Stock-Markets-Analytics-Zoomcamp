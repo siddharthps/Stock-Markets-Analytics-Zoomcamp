{
  "nbformat": 4,
  "nbformat_minor": 0,
  "metadata": {
    "colab": {
      "provenance": []
    },
    "kernelspec": {
      "name": "python3",
      "display_name": "Python 3"
    },
    "language_info": {
      "name": "python"
    }
  },
  "cells": [
    {
      "cell_type": "markdown",
      "source": [
        "### Question 1: [Index] S&P 500 Stocks Added to the Index"
      ],
      "metadata": {
        "id": "FC8wWc07jDba"
      }
    },
    {
      "cell_type": "code",
      "source": [
        "import pandas as pd"
      ],
      "metadata": {
        "id": "RLNhXi1wjHyv"
      },
      "execution_count": 1,
      "outputs": []
    },
    {
      "cell_type": "code",
      "source": [
        "# URL of the Wikipedia page\n",
        "url = \"https://en.wikipedia.org/wiki/List_of_S%26P_500_companies\""
      ],
      "metadata": {
        "id": "_woLUHkFqJGV"
      },
      "execution_count": 2,
      "outputs": []
    },
    {
      "cell_type": "code",
      "source": [
        "tables = pd.read_html(url)"
      ],
      "metadata": {
        "id": "IV2s10fHqLxF"
      },
      "execution_count": 3,
      "outputs": []
    },
    {
      "cell_type": "code",
      "source": [
        "sp500_df = tables[0]\n",
        "print(sp500_df.head())\n"
      ],
      "metadata": {
        "colab": {
          "base_uri": "https://localhost:8080/"
        },
        "id": "Q3cLGxPJqOfF",
        "outputId": "eaf09861-8e18-48c6-db77-193e9944842a"
      },
      "execution_count": 5,
      "outputs": [
        {
          "output_type": "stream",
          "name": "stdout",
          "text": [
            "  Symbol             Security             GICS Sector  \\\n",
            "0    MMM                   3M             Industrials   \n",
            "1    AOS          A. O. Smith             Industrials   \n",
            "2    ABT  Abbott Laboratories             Health Care   \n",
            "3   ABBV               AbbVie             Health Care   \n",
            "4    ACN            Accenture  Information Technology   \n",
            "\n",
            "                GICS Sub-Industry    Headquarters Location  Date added  \\\n",
            "0        Industrial Conglomerates    Saint Paul, Minnesota  1957-03-04   \n",
            "1               Building Products     Milwaukee, Wisconsin  2017-07-26   \n",
            "2           Health Care Equipment  North Chicago, Illinois  1957-03-04   \n",
            "3                   Biotechnology  North Chicago, Illinois  2012-12-31   \n",
            "4  IT Consulting & Other Services          Dublin, Ireland  2011-07-06   \n",
            "\n",
            "       CIK      Founded  \n",
            "0    66740         1902  \n",
            "1    91142         1916  \n",
            "2     1800         1888  \n",
            "3  1551152  2013 (1888)  \n",
            "4  1467373         1989  \n"
          ]
        }
      ]
    },
    {
      "cell_type": "code",
      "source": [
        "print(sp500_df.columns)"
      ],
      "metadata": {
        "colab": {
          "base_uri": "https://localhost:8080/"
        },
        "id": "b1TdiQc1qbe1",
        "outputId": "5abfb378-4be6-4a0c-b056-26cdb050892b"
      },
      "execution_count": 6,
      "outputs": [
        {
          "output_type": "stream",
          "name": "stdout",
          "text": [
            "Index(['Symbol', 'Security', 'GICS Sector', 'GICS Sub-Industry',\n",
            "       'Headquarters Location', 'Date added', 'CIK', 'Founded'],\n",
            "      dtype='object')\n"
          ]
        }
      ]
    },
    {
      "cell_type": "code",
      "source": [
        "sp500_df['Date added'] = pd.to_datetime(sp500_df['Date added'], errors='coerce')\n",
        "sp500_df['Year Added'] = sp500_df['Date added'].dt.year"
      ],
      "metadata": {
        "id": "Tejjcvdmza4Z"
      },
      "execution_count": 10,
      "outputs": []
    },
    {
      "cell_type": "code",
      "source": [
        "additions_per_year = sp500_df.groupby('Year Added')['Security'].count()"
      ],
      "metadata": {
        "id": "WZMx4kkkzfbV"
      },
      "execution_count": 12,
      "outputs": []
    },
    {
      "cell_type": "markdown",
      "source": [
        "#### Year with highest additions"
      ],
      "metadata": {
        "id": "sxidXClF1mME"
      }
    },
    {
      "cell_type": "code",
      "source": [
        "additions_excluding_1957 = additions_per_year[additions_per_year.index != 1957]\n",
        "max_additions_count = additions_excluding_1957.max()\n",
        "years_with_max_additions = additions_excluding_1957[additions_excluding_1957 == max_additions_count]\n",
        "list_of_years_with_max = years_with_max_additions.index.tolist()\n",
        "print(f\"\\nThe maximum number of additions in a year was: {max_additions_count}\")\n",
        "print(f\"The year(s) with this highest number of additions (excluding 1957) are: {list_of_years_with_max}\")"
      ],
      "metadata": {
        "colab": {
          "base_uri": "https://localhost:8080/"
        },
        "id": "MKr1wyT72IVs",
        "outputId": "31237de3-89c6-4a9d-a390-0a1f39e7d48d"
      },
      "execution_count": 21,
      "outputs": [
        {
          "output_type": "stream",
          "name": "stdout",
          "text": [
            "\n",
            "The maximum number of additions in a year was: 23\n",
            "The year(s) with this highest number of additions (excluding 1957) are: [2016, 2017]\n"
          ]
        }
      ]
    },
    {
      "cell_type": "markdown",
      "source": [
        "Additional: How many current S&P 500 stocks have been in the index for more than 20 years? When stocks are added to the S&P 500, they usually experience a price bump as investors and index funds buy shares following the announcement.\n",
        "\n",
        "\n"
      ],
      "metadata": {
        "id": "-gH4h1rI5cVS"
      }
    },
    {
      "cell_type": "code",
      "source": [
        "import time\n",
        "from datetime import date"
      ],
      "metadata": {
        "id": "neiweb0Y8cYX"
      },
      "execution_count": 27,
      "outputs": []
    },
    {
      "cell_type": "code",
      "source": [
        "year_today = date.today().year\n",
        "num_long_term_stocks = (sp500_df[year_today-sp500_df['Year Added'] > 20])\n",
        "print(f\"\\nThe number of current S&P 500 stocks in the index for more than 20 years is: {len(num_long_term_stocks)}\")"
      ],
      "metadata": {
        "colab": {
          "base_uri": "https://localhost:8080/"
        },
        "id": "XGSa5ehu67WQ",
        "outputId": "8b681004-4c9e-4b10-b994-b5c54a295284"
      },
      "execution_count": 28,
      "outputs": [
        {
          "output_type": "stream",
          "name": "stdout",
          "text": [
            "\n",
            "The number of current S&P 500 stocks in the index for more than 20 years is: 219\n"
          ]
        }
      ]
    },
    {
      "cell_type": "markdown",
      "source": [
        "### Question 2. [Macro] Indexes YTD (as of 1 May 2025)\n",
        "\n",
        "How many indexes (out of 10) have better year-to-date returns than the US (S&P 500) as of May 1, 2025?"
      ],
      "metadata": {
        "id": "SGPbS-Nt7Ym_"
      }
    },
    {
      "cell_type": "markdown",
      "source": [
        "Using Yahoo Finance World Indices data, compare the year-to-date (YTD) performance (1 January-1 May 2025) of major stock market indexes for the following countries:\n",
        "\n",
        "    United States - S&P 500 (^GSPC)\n",
        "    China - Shanghai Composite (000001.SS)\n",
        "    Hong Kong - HANG SENG INDEX (^HSI)\n",
        "    Australia - S&P/ASX 200 (^AXJO)\n",
        "    India - Nifty 50 (^NSEI)\n",
        "    Canada - S&P/TSX Composite (^GSPTSE)\n",
        "    Germany - DAX (^GDAXI)\n",
        "    United Kingdom - FTSE 100 (^FTSE)\n",
        "    Japan - Nikkei 225 (^N225)\n",
        "    Mexico - IPC Mexico (^MXX)\n",
        "    Brazil - Ibovespa (^BVSP)\n"
      ],
      "metadata": {
        "id": "Z3AZfV4b7gQA"
      }
    },
    {
      "cell_type": "code",
      "source": [
        "!pip install yfinance"
      ],
      "metadata": {
        "colab": {
          "base_uri": "https://localhost:8080/"
        },
        "id": "u6ebwEMZ7ZlW",
        "outputId": "c9f4566a-ef70-451d-89c8-bc049a14a18d"
      },
      "execution_count": 24,
      "outputs": [
        {
          "output_type": "stream",
          "name": "stdout",
          "text": [
            "Requirement already satisfied: yfinance in /usr/local/lib/python3.11/dist-packages (0.2.61)\n",
            "Requirement already satisfied: pandas>=1.3.0 in /usr/local/lib/python3.11/dist-packages (from yfinance) (2.2.2)\n",
            "Requirement already satisfied: numpy>=1.16.5 in /usr/local/lib/python3.11/dist-packages (from yfinance) (2.0.2)\n",
            "Requirement already satisfied: requests>=2.31 in /usr/local/lib/python3.11/dist-packages (from yfinance) (2.32.3)\n",
            "Requirement already satisfied: multitasking>=0.0.7 in /usr/local/lib/python3.11/dist-packages (from yfinance) (0.0.11)\n",
            "Requirement already satisfied: platformdirs>=2.0.0 in /usr/local/lib/python3.11/dist-packages (from yfinance) (4.3.8)\n",
            "Requirement already satisfied: pytz>=2022.5 in /usr/local/lib/python3.11/dist-packages (from yfinance) (2025.2)\n",
            "Requirement already satisfied: frozendict>=2.3.4 in /usr/local/lib/python3.11/dist-packages (from yfinance) (2.4.6)\n",
            "Requirement already satisfied: peewee>=3.16.2 in /usr/local/lib/python3.11/dist-packages (from yfinance) (3.18.1)\n",
            "Requirement already satisfied: beautifulsoup4>=4.11.1 in /usr/local/lib/python3.11/dist-packages (from yfinance) (4.13.4)\n",
            "Requirement already satisfied: curl_cffi>=0.7 in /usr/local/lib/python3.11/dist-packages (from yfinance) (0.11.1)\n",
            "Requirement already satisfied: protobuf>=3.19.0 in /usr/local/lib/python3.11/dist-packages (from yfinance) (5.29.4)\n",
            "Requirement already satisfied: websockets>=13.0 in /usr/local/lib/python3.11/dist-packages (from yfinance) (15.0.1)\n",
            "Requirement already satisfied: soupsieve>1.2 in /usr/local/lib/python3.11/dist-packages (from beautifulsoup4>=4.11.1->yfinance) (2.7)\n",
            "Requirement already satisfied: typing-extensions>=4.0.0 in /usr/local/lib/python3.11/dist-packages (from beautifulsoup4>=4.11.1->yfinance) (4.13.2)\n",
            "Requirement already satisfied: cffi>=1.12.0 in /usr/local/lib/python3.11/dist-packages (from curl_cffi>=0.7->yfinance) (1.17.1)\n",
            "Requirement already satisfied: certifi>=2024.2.2 in /usr/local/lib/python3.11/dist-packages (from curl_cffi>=0.7->yfinance) (2025.4.26)\n",
            "Requirement already satisfied: python-dateutil>=2.8.2 in /usr/local/lib/python3.11/dist-packages (from pandas>=1.3.0->yfinance) (2.9.0.post0)\n",
            "Requirement already satisfied: tzdata>=2022.7 in /usr/local/lib/python3.11/dist-packages (from pandas>=1.3.0->yfinance) (2025.2)\n",
            "Requirement already satisfied: charset-normalizer<4,>=2 in /usr/local/lib/python3.11/dist-packages (from requests>=2.31->yfinance) (3.4.2)\n",
            "Requirement already satisfied: idna<4,>=2.5 in /usr/local/lib/python3.11/dist-packages (from requests>=2.31->yfinance) (3.10)\n",
            "Requirement already satisfied: urllib3<3,>=1.21.1 in /usr/local/lib/python3.11/dist-packages (from requests>=2.31->yfinance) (2.4.0)\n",
            "Requirement already satisfied: pycparser in /usr/local/lib/python3.11/dist-packages (from cffi>=1.12.0->curl_cffi>=0.7->yfinance) (2.22)\n",
            "Requirement already satisfied: six>=1.5 in /usr/local/lib/python3.11/dist-packages (from python-dateutil>=2.8.2->pandas>=1.3.0->yfinance) (1.17.0)\n"
          ]
        }
      ]
    },
    {
      "cell_type": "code",
      "source": [
        "import yfinance as yf\n",
        "import pandas_datareader as pdr"
      ],
      "metadata": {
        "id": "G7aF1Kfa7otI"
      },
      "execution_count": 25,
      "outputs": []
    },
    {
      "cell_type": "code",
      "source": [
        "start_date = '2025-01-01'\n",
        "end_date = '2025-05-01'"
      ],
      "metadata": {
        "id": "1Sm5yoZ_8UOA"
      },
      "execution_count": 37,
      "outputs": []
    },
    {
      "cell_type": "code",
      "source": [
        "# Dictionary of indices and their Yahoo Finance tickers\n",
        "indices_tickers = {\n",
        "    \"United States - S&P 500\": \"^GSPC\",\n",
        "    \"China - Shanghai Composite\": \"000001.SS\",\n",
        "    \"Hong Kong - HANG SENG INDEX\": \"^HSI\",\n",
        "    \"Australia - S&P/ASX 200\": \"^AXJO\",\n",
        "    \"India - Nifty 50\": \"^NSEI\",\n",
        "    \"Canada - S&P/TSX Composite\": \"^GSPTSE\",\n",
        "    \"Germany - DAX\": \"^GDAXI\",\n",
        "    \"United Kingdom - FTSE 100\": \"^FTSE\",\n",
        "    \"Japan - Nikkei 225\": \"^N225\",\n",
        "    \"Mexico - IPC Mexico\": \"^MXX\",\n",
        "    \"Brazil - Ibovespa\": \"^BVSP\"\n",
        "}"
      ],
      "metadata": {
        "id": "9uLcOZJUA4Cc"
      },
      "execution_count": 38,
      "outputs": []
    },
    {
      "cell_type": "code",
      "source": [
        "all_indices_data = {}"
      ],
      "metadata": {
        "id": "ZgUwSe-MENHo"
      },
      "execution_count": 42,
      "outputs": []
    },
    {
      "cell_type": "code",
      "source": [
        "for index_name, ticker in indices_tickers.items():\n",
        "    try:\n",
        "        data = yf.download(ticker, start=start_date, end=end_date)\n",
        "        if not data.empty:\n",
        "            all_indices_data[index_name] = data\n",
        "            print(f\"Successfully downloaded data for {index_name} ({ticker})\")\n",
        "        else:\n",
        "            print(f\"No data found for {index_name} ({ticker}). Skipping.\")\n",
        "    except Exception as e:\n",
        "        print(f\"Error downloading data for {index_name} ({ticker}): {e}\")"
      ],
      "metadata": {
        "colab": {
          "base_uri": "https://localhost:8080/"
        },
        "id": "OmRI3GZ9ENz4",
        "outputId": "a48dc2a8-4ff7-4485-bd7f-fa91476c8fa4"
      },
      "execution_count": 43,
      "outputs": [
        {
          "output_type": "stream",
          "name": "stdout",
          "text": [
            "YF.download() has changed argument auto_adjust default to True\n"
          ]
        },
        {
          "output_type": "stream",
          "name": "stderr",
          "text": [
            "[*********************100%***********************]  1 of 1 completed\n",
            "[*********************100%***********************]  1 of 1 completed\n"
          ]
        },
        {
          "output_type": "stream",
          "name": "stdout",
          "text": [
            "Successfully downloaded data for United States - S&P 500 (^GSPC)\n",
            "Successfully downloaded data for China - Shanghai Composite (000001.SS)\n"
          ]
        },
        {
          "output_type": "stream",
          "name": "stderr",
          "text": [
            "[*********************100%***********************]  1 of 1 completed\n",
            "[*********************100%***********************]  1 of 1 completed\n"
          ]
        },
        {
          "output_type": "stream",
          "name": "stdout",
          "text": [
            "Successfully downloaded data for Hong Kong - HANG SENG INDEX (^HSI)\n",
            "Successfully downloaded data for Australia - S&P/ASX 200 (^AXJO)\n"
          ]
        },
        {
          "output_type": "stream",
          "name": "stderr",
          "text": [
            "[*********************100%***********************]  1 of 1 completed\n",
            "[*********************100%***********************]  1 of 1 completed\n"
          ]
        },
        {
          "output_type": "stream",
          "name": "stdout",
          "text": [
            "Successfully downloaded data for India - Nifty 50 (^NSEI)\n",
            "Successfully downloaded data for Canada - S&P/TSX Composite (^GSPTSE)\n"
          ]
        },
        {
          "output_type": "stream",
          "name": "stderr",
          "text": [
            "[*********************100%***********************]  1 of 1 completed\n",
            "[*********************100%***********************]  1 of 1 completed\n"
          ]
        },
        {
          "output_type": "stream",
          "name": "stdout",
          "text": [
            "Successfully downloaded data for Germany - DAX (^GDAXI)\n",
            "Successfully downloaded data for United Kingdom - FTSE 100 (^FTSE)\n"
          ]
        },
        {
          "output_type": "stream",
          "name": "stderr",
          "text": [
            "[*********************100%***********************]  1 of 1 completed\n",
            "[*********************100%***********************]  1 of 1 completed\n"
          ]
        },
        {
          "output_type": "stream",
          "name": "stdout",
          "text": [
            "Successfully downloaded data for Japan - Nikkei 225 (^N225)\n"
          ]
        },
        {
          "output_type": "stream",
          "name": "stderr",
          "text": [
            "\r[*********************100%***********************]  1 of 1 completed"
          ]
        },
        {
          "output_type": "stream",
          "name": "stdout",
          "text": [
            "Successfully downloaded data for Mexico - IPC Mexico (^MXX)\n",
            "Successfully downloaded data for Brazil - Ibovespa (^BVSP)\n"
          ]
        },
        {
          "output_type": "stream",
          "name": "stderr",
          "text": [
            "\n"
          ]
        }
      ]
    },
    {
      "cell_type": "code",
      "source": [
        "print(all_indices_data[\"Germany - DAX\"].head())"
      ],
      "metadata": {
        "colab": {
          "base_uri": "https://localhost:8080/"
        },
        "id": "EIQioOJIEaiX",
        "outputId": "9fb0943a-17ef-430a-cb02-1357be304068"
      },
      "execution_count": 45,
      "outputs": [
        {
          "output_type": "stream",
          "name": "stdout",
          "text": [
            "Price              Close          High           Low          Open    Volume\n",
            "Ticker            ^GDAXI        ^GDAXI        ^GDAXI        ^GDAXI    ^GDAXI\n",
            "Date                                                                        \n",
            "2025-01-02  20024.660156  20024.789062  19833.820312  19923.070312  52445600\n",
            "2025-01-03  19906.080078  20031.109375  19868.140625  20028.400391  44372900\n",
            "2025-01-06  20216.189453  20216.189453  19921.119141  19982.660156  70784900\n",
            "2025-01-07  20340.570312  20391.169922  20152.699219  20206.039062  62020000\n",
            "2025-01-08  20329.939453  20480.490234  20242.560547  20322.169922  62954900\n"
          ]
        }
      ]
    },
    {
      "cell_type": "code",
      "source": [
        "ytd_returns = {}\n",
        "\n",
        "for index_name, df in all_indices_data.items():\n",
        "  start_price = df['Close'].iloc[0]\n",
        "  end_price = df['Close'].iloc[-1]\n",
        "  ytd_return = (end_price - start_price) / start_price\n",
        "  ytd_returns[index_name] = ytd_return"
      ],
      "metadata": {
        "id": "VOTTUmh0E-_H"
      },
      "execution_count": 49,
      "outputs": []
    },
    {
      "cell_type": "code",
      "source": [
        "better_performance_count = 0"
      ],
      "metadata": {
        "id": "yHGvrULMGzYN"
      },
      "execution_count": 68,
      "outputs": []
    },
    {
      "cell_type": "code",
      "source": [
        "for index_name, ytd_ret in ytd_returns.items():\n",
        "  # Skip S&P 500 itself in the comparison loop\n",
        "  if index_name == \"United States - S&P 500\":\n",
        "    continue\n",
        "  if ytd_ret.item() > ytd_returns.get(\"United States - S&P 500\").item():\n",
        "    better_performance_count += 1\n",
        "    print(f\"- {index_name}: {ytd_ret.item() :.2%} (BETTER than S&P 500)\")\n",
        "  else:\n",
        "    print(f\"- {index_name}: {ytd_ret.item() :.2%} (Worse or Equal to S&P 500)\")"
      ],
      "metadata": {
        "colab": {
          "base_uri": "https://localhost:8080/"
        },
        "id": "UrV959v9GfRX",
        "outputId": "d8364ec0-e1a2-43d7-c276-219e7ca48629"
      },
      "execution_count": 79,
      "outputs": [
        {
          "output_type": "stream",
          "name": "stdout",
          "text": [
            "- China - Shanghai Composite: 0.50% (BETTER than S&P 500)\n",
            "- Hong Kong - HANG SENG INDEX: 12.72% (BETTER than S&P 500)\n",
            "- Australia - S&P/ASX 200: -0.91% (BETTER than S&P 500)\n",
            "- India - Nifty 50: 2.49% (BETTER than S&P 500)\n",
            "- Canada - S&P/TSX Composite: -0.23% (BETTER than S&P 500)\n",
            "- Germany - DAX: 12.35% (BETTER than S&P 500)\n",
            "- United Kingdom - FTSE 100: 2.84% (BETTER than S&P 500)\n",
            "- Japan - Nikkei 225: -8.30% (Worse or Equal to S&P 500)\n",
            "- Mexico - IPC Mexico: 13.05% (BETTER than S&P 500)\n",
            "- Brazil - Ibovespa: 12.44% (BETTER than S&P 500)\n"
          ]
        }
      ]
    },
    {
      "cell_type": "code",
      "source": [
        "print('The number of Indicies that have a better return than that of the S&P 500 upto 01/05/2025 for the year are:',better_performance_count)"
      ],
      "metadata": {
        "colab": {
          "base_uri": "https://localhost:8080/"
        },
        "id": "U5nZlEsPH3r9",
        "outputId": "6c976577-b855-4ec9-8866-d17ceded85b1"
      },
      "execution_count": 74,
      "outputs": [
        {
          "output_type": "stream",
          "name": "stdout",
          "text": [
            "The number of Indicies that have a better return than that of the S&P 500 upto 01/05/2025 for the year are: 9\n"
          ]
        }
      ]
    },
    {
      "cell_type": "markdown",
      "source": [
        "Additional: How many of these indexes have better returns than the S&P 500 over 3, 5, and 10 year periods? Do you see the same trend? Note: For simplicity, ignore currency conversion effects.)"
      ],
      "metadata": {
        "id": "9IVX5WlMKDv1"
      }
    },
    {
      "cell_type": "code",
      "source": [
        "# --- 3-Year Period Calculation ---\n",
        "start_date_3yr = '2022-05-01'\n",
        "period_returns_3yr = {}\n",
        "\n",
        "for index_name, ticker in indices_tickers.items():\n",
        "    data = yf.download(ticker, start=start_date_3yr, end=end_date, interval='1d', progress=False)\n",
        "    if not data.empty:\n",
        "      # Get the first available 'Close' price for the period\n",
        "      start_price = data['Close'].iloc[0]\n",
        "      # Get the last available 'Close' price for the period\n",
        "      end_price = data['Close'].iloc[-1]\n",
        "      period_return = (end_price - start_price) / start_price\n",
        "      period_returns_3yr[index_name] = period_return"
      ],
      "metadata": {
        "id": "uP6SDXeeKEfh"
      },
      "execution_count": 89,
      "outputs": []
    },
    {
      "cell_type": "code",
      "source": [
        "better_performance_count = 0\n",
        "for index_name, period_ret in period_returns_3yr.items():\n",
        "  # Skip S&P 500 itself in the comparison loop\n",
        "  if index_name == \"United States - S&P 500\":\n",
        "    continue\n",
        "  if period_ret.item() > period_returns_3yr.get(\"United States - S&P 500\").item():\n",
        "    better_performance_count += 1\n",
        "    print(f\"- {index_name}: {period_ret.item() :.2%} (BETTER than S&P 500)\")\n",
        "  else:\n",
        "    print(f\"- {index_name}: {period_ret.item() :.2%} (Worse or Equal to S&P 500)\")"
      ],
      "metadata": {
        "colab": {
          "base_uri": "https://localhost:8080/"
        },
        "id": "uF2HMRJAZgHx",
        "outputId": "25e642cb-3232-4425-fd7c-23aefde67a01"
      },
      "execution_count": 90,
      "outputs": [
        {
          "output_type": "stream",
          "name": "stdout",
          "text": [
            "- China - Shanghai Composite: 6.89% (Worse or Equal to S&P 500)\n",
            "- Hong Kong - HANG SENG INDEX: 4.82% (Worse or Equal to S&P 500)\n",
            "- Australia - S&P/ASX 200: 10.61% (Worse or Equal to S&P 500)\n",
            "- India - Nifty 50: 42.56% (BETTER than S&P 500)\n",
            "- Canada - S&P/TSX Composite: 20.05% (Worse or Equal to S&P 500)\n",
            "- Germany - DAX: 61.40% (BETTER than S&P 500)\n",
            "- United Kingdom - FTSE 100: 12.35% (Worse or Equal to S&P 500)\n",
            "- Japan - Nikkei 225: 34.40% (BETTER than S&P 500)\n",
            "- Mexico - IPC Mexico: 8.43% (Worse or Equal to S&P 500)\n",
            "- Brazil - Ibovespa: 26.66% (Worse or Equal to S&P 500)\n"
          ]
        }
      ]
    },
    {
      "cell_type": "code",
      "source": [
        "print('The number of Indicies that have a better return than that of the S&P 500 upto 01/05/2025 for the previous 3 years are:',better_performance_count)"
      ],
      "metadata": {
        "colab": {
          "base_uri": "https://localhost:8080/"
        },
        "id": "DpagIuUGZrz5",
        "outputId": "75075095-77f6-4f65-94c5-6a032b5e6ae9"
      },
      "execution_count": 88,
      "outputs": [
        {
          "output_type": "stream",
          "name": "stdout",
          "text": [
            "The number of Indicies that have a better return than that of the S&P 500 upto 01/05/2025 for the previous 3 years are: 3\n"
          ]
        }
      ]
    },
    {
      "cell_type": "markdown",
      "source": [
        "#### 5 years"
      ],
      "metadata": {
        "id": "U_Cjs3zmZ-uR"
      }
    },
    {
      "cell_type": "code",
      "source": [
        "# --- 5-Year Period Calculation ---\n",
        "start_date_5yr = '2020-05-01'\n",
        "period_returns_5yr = {}\n",
        "\n",
        "for index_name, ticker in indices_tickers.items():\n",
        "    data = yf.download(ticker, start=start_date_5yr, end=end_date, interval='1d', progress=False)\n",
        "    if not data.empty:\n",
        "      # Get the first available 'Close' price for the period\n",
        "      start_price = data['Close'].iloc[0]\n",
        "      # Get the last available 'Close' price for the period\n",
        "      end_price = data['Close'].iloc[-1]\n",
        "      period_return = (end_price - start_price) / start_price\n",
        "      period_returns_5yr[index_name] = period_return"
      ],
      "metadata": {
        "id": "Rc3zgwd9aAJW"
      },
      "execution_count": 94,
      "outputs": []
    },
    {
      "cell_type": "code",
      "source": [
        "better_performance_count = 0\n",
        "for index_name, period_ret in period_returns_5yr.items():\n",
        "  # Skip S&P 500 itself in the comparison loop\n",
        "  if index_name == \"United States - S&P 500\":\n",
        "    continue\n",
        "  if period_ret.item() > period_returns_5yr.get(\"United States - S&P 500\").item():\n",
        "    better_performance_count += 1\n",
        "    print(f\"- {index_name}: {period_ret.item() :.2%} (BETTER than S&P 500)\")\n",
        "  else:\n",
        "    print(f\"- {index_name}: {period_ret.item() :.2%} (Worse or Equal to S&P 500)\")"
      ],
      "metadata": {
        "colab": {
          "base_uri": "https://localhost:8080/"
        },
        "id": "wlMCnivHaHvZ",
        "outputId": "57febcb5-9d26-44ce-ff8e-435562aa08c7"
      },
      "execution_count": 92,
      "outputs": [
        {
          "output_type": "stream",
          "name": "stdout",
          "text": [
            "- China - Shanghai Composite: 13.93% (Worse or Equal to S&P 500)\n",
            "- Hong Kong - HANG SENG INDEX: -6.33% (Worse or Equal to S&P 500)\n",
            "- Australia - S&P/ASX 200: 54.91% (Worse or Equal to S&P 500)\n",
            "- India - Nifty 50: 161.84% (BETTER than S&P 500)\n",
            "- Canada - S&P/TSX Composite: 69.91% (Worse or Equal to S&P 500)\n",
            "- Germany - DAX: 114.94% (BETTER than S&P 500)\n",
            "- United Kingdom - FTSE 100: 47.40% (Worse or Equal to S&P 500)\n",
            "- Japan - Nikkei 225: 83.72% (Worse or Equal to S&P 500)\n",
            "- Mexico - IPC Mexico: 54.68% (Worse or Equal to S&P 500)\n",
            "- Brazil - Ibovespa: 71.24% (Worse or Equal to S&P 500)\n"
          ]
        }
      ]
    },
    {
      "cell_type": "code",
      "source": [
        "print('The number of Indicies that have a better return than that of the S&P 500 upto 01/05/2025 for the previous 5 years are:',better_performance_count)"
      ],
      "metadata": {
        "colab": {
          "base_uri": "https://localhost:8080/"
        },
        "id": "yIfNK6DtaNY4",
        "outputId": "3321cef5-c1fe-4370-de7f-03024f64b1ae"
      },
      "execution_count": 93,
      "outputs": [
        {
          "output_type": "stream",
          "name": "stdout",
          "text": [
            "The number of Indicies that have a better return than that of the S&P 500 upto 01/05/2025 for the previous 5 years are: 2\n"
          ]
        }
      ]
    },
    {
      "cell_type": "markdown",
      "source": [
        "#### 10 Years"
      ],
      "metadata": {
        "id": "od_KMwq_aTCo"
      }
    },
    {
      "cell_type": "code",
      "source": [
        "# --- 10-Year Period Calculation ---\n",
        "start_date_10yr = '2015-05-01'\n",
        "period_returns_10yr = {}\n",
        "\n",
        "for index_name, ticker in indices_tickers.items():\n",
        "    data = yf.download(ticker, start=start_date_10yr, end=end_date, interval='1d', progress=False)\n",
        "    if not data.empty:\n",
        "      # Get the first available 'Close' price for the period\n",
        "      start_price = data['Close'].iloc[0]\n",
        "      # Get the last available 'Close' price for the period\n",
        "      end_price = data['Close'].iloc[-1]\n",
        "      period_return = (end_price - start_price) / start_price\n",
        "      period_returns_10yr[index_name] = period_return"
      ],
      "metadata": {
        "id": "1vNpeWZCaUXd"
      },
      "execution_count": 96,
      "outputs": []
    },
    {
      "cell_type": "code",
      "source": [
        "better_performance_count = 0\n",
        "for index_name, period_ret in period_returns_10yr.items():\n",
        "  # Skip S&P 500 itself in the comparison loop\n",
        "  if index_name == \"United States - S&P 500\":\n",
        "    continue\n",
        "  if period_ret.item() > period_returns_10yr.get(\"United States - S&P 500\").item():\n",
        "    better_performance_count += 1\n",
        "    print(f\"- {index_name}: {period_ret.item() :.2%} (BETTER than S&P 500)\")\n",
        "  else:\n",
        "    print(f\"- {index_name}: {period_ret.item() :.2%} (Worse or Equal to S&P 500)\")"
      ],
      "metadata": {
        "colab": {
          "base_uri": "https://localhost:8080/"
        },
        "id": "XPpPdEJQacG5",
        "outputId": "cc90670b-a3ef-4a5a-d0e9-8ed1c8db2add"
      },
      "execution_count": 97,
      "outputs": [
        {
          "output_type": "stream",
          "name": "stdout",
          "text": [
            "- China - Shanghai Composite: -26.81% (Worse or Equal to S&P 500)\n",
            "- Hong Kong - HANG SENG INDEX: -21.35% (Worse or Equal to S&P 500)\n",
            "- Australia - S&P/ASX 200: 39.76% (Worse or Equal to S&P 500)\n",
            "- India - Nifty 50: 192.06% (BETTER than S&P 500)\n",
            "- Canada - S&P/TSX Composite: 61.94% (Worse or Equal to S&P 500)\n",
            "- Germany - DAX: 93.61% (Worse or Equal to S&P 500)\n",
            "- United Kingdom - FTSE 100: 21.60% (Worse or Equal to S&P 500)\n",
            "- Japan - Nikkei 225: 84.55% (Worse or Equal to S&P 500)\n",
            "- Mexico - IPC Mexico: 24.36% (Worse or Equal to S&P 500)\n",
            "- Brazil - Ibovespa: 135.50% (Worse or Equal to S&P 500)\n"
          ]
        }
      ]
    },
    {
      "cell_type": "code",
      "source": [
        "print('The number of Indicies that have a better return than that of the S&P 500 upto 01/05/2025 for the previous 5 years are:',better_performance_count)"
      ],
      "metadata": {
        "colab": {
          "base_uri": "https://localhost:8080/"
        },
        "id": "jfpb0b6YahGz",
        "outputId": "5fd1127e-d9da-4cf1-ce2c-8d08870f26ab"
      },
      "execution_count": 98,
      "outputs": [
        {
          "output_type": "stream",
          "name": "stdout",
          "text": [
            "The number of Indicies that have a better return than that of the S&P 500 upto 01/05/2025 for the previous 5 years are: 1\n"
          ]
        }
      ]
    },
    {
      "cell_type": "markdown",
      "source": [
        "### Question 3. [Index] S&P 500 Market Corrections Analysis\n",
        "\n",
        "Calculate the median duration (in days) of significant market corrections in the S&P 500 index.\n",
        "\n",
        "For this task, define a correction as an event when a stock index goes down by more than 5% from the closest all-time high maximum."
      ],
      "metadata": {
        "id": "QD_wR4nna85C"
      }
    },
    {
      "cell_type": "code",
      "source": [
        "from datetime import datetime"
      ],
      "metadata": {
        "id": "lH0MKBUurPsi"
      },
      "execution_count": 172,
      "outputs": []
    },
    {
      "cell_type": "code",
      "source": [
        "start_date = '1950-01-01'\n",
        "end_date = datetime.now().strftime('%Y-%m-%d')"
      ],
      "metadata": {
        "id": "r02CArhjrJIk"
      },
      "execution_count": 173,
      "outputs": []
    },
    {
      "cell_type": "code",
      "source": [
        "sp500_data = yf.download('^GSPC', start=start_date, end=end_date)"
      ],
      "metadata": {
        "colab": {
          "base_uri": "https://localhost:8080/"
        },
        "id": "guTyehOpa_6k",
        "outputId": "4007fd47-f247-429b-a4c7-80c804471d93"
      },
      "execution_count": 174,
      "outputs": [
        {
          "output_type": "stream",
          "name": "stderr",
          "text": [
            "\r[*********************100%***********************]  1 of 1 completed\n"
          ]
        }
      ]
    },
    {
      "cell_type": "code",
      "source": [
        "sp500_data.columns"
      ],
      "metadata": {
        "colab": {
          "base_uri": "https://localhost:8080/"
        },
        "id": "QdW1MUworWPC",
        "outputId": "644a7a1f-422b-4f18-a2cf-2f6e764db049"
      },
      "execution_count": 175,
      "outputs": [
        {
          "output_type": "execute_result",
          "data": {
            "text/plain": [
              "MultiIndex([( 'Close', '^GSPC'),\n",
              "            (  'High', '^GSPC'),\n",
              "            (   'Low', '^GSPC'),\n",
              "            (  'Open', '^GSPC'),\n",
              "            ('Volume', '^GSPC')],\n",
              "           names=['Price', 'Ticker'])"
            ]
          },
          "metadata": {},
          "execution_count": 175
        }
      ]
    },
    {
      "cell_type": "code",
      "source": [
        "if isinstance(sp500_data.columns, pd.MultiIndex):\n",
        "    sp500_close = sp500_data['Close']['^GSPC']\n",
        "else:\n",
        "    sp500_close = sp500_data['Close']\n",
        "# Calculate the all-time high (ATH) up to each day\n",
        "sp500_data['All_Time_High'] = sp500_close.cummax()"
      ],
      "metadata": {
        "id": "ASoQ4gjStFhB"
      },
      "execution_count": 176,
      "outputs": []
    },
    {
      "cell_type": "code",
      "source": [
        "# Calculate the daily drawdown from the most recent All-Time High\n",
        "sp500_data['Drawdown_Pct'] = ((sp500_data['All_Time_High'] - sp500_close) / sp500_data['All_Time_High']) * 100"
      ],
      "metadata": {
        "id": "XLj5Hbux0xdT"
      },
      "execution_count": 177,
      "outputs": []
    },
    {
      "cell_type": "code",
      "source": [
        "print(\"Last 10 rows with 'Close', 'All_Time_High', and 'Drawdown_Pct':\")\n",
        "print(sp500_data[['Close', 'All_Time_High', 'Drawdown_Pct']].tail(10))"
      ],
      "metadata": {
        "colab": {
          "base_uri": "https://localhost:8080/"
        },
        "id": "khT0YW3N01N7",
        "outputId": "b633fbd4-c237-45ef-a23a-ef0ee025c741"
      },
      "execution_count": 178,
      "outputs": [
        {
          "output_type": "stream",
          "name": "stdout",
          "text": [
            "Last 10 rows with 'Close', 'All_Time_High', and 'Drawdown_Pct':\n",
            "Price             Close All_Time_High Drawdown_Pct\n",
            "Ticker            ^GSPC                           \n",
            "Date                                              \n",
            "2025-05-16  5958.379883   6144.149902     3.023527\n",
            "2025-05-19  5963.600098   6144.149902     2.938564\n",
            "2025-05-20  5940.459961   6144.149902     3.315185\n",
            "2025-05-21  5844.609863   6144.149902     4.875207\n",
            "2025-05-22  5842.009766   6144.149902     4.917525\n",
            "2025-05-23  5802.819824   6144.149902     5.555367\n",
            "2025-05-27  5921.540039   6144.149902     3.623119\n",
            "2025-05-28  5888.549805   6144.149902     4.160056\n",
            "2025-05-29  5912.169922   6144.149902     3.775624\n",
            "2025-05-30  5911.689941   6144.149902     3.783436\n"
          ]
        }
      ]
    },
    {
      "cell_type": "code",
      "source": [
        "# Display some days where drawdown is significant\n",
        "print(\"\\nDays with Drawdown_Pct > 5% (first 10 occurrences):\")\n",
        "print(sp500_data[sp500_data['Drawdown_Pct'] > 5][['Close', 'All_Time_High', 'Drawdown_Pct']].head(10))"
      ],
      "metadata": {
        "colab": {
          "base_uri": "https://localhost:8080/"
        },
        "id": "Entyf2RE05_a",
        "outputId": "8b17eb79-4917-4867-bd56-bccd598330d3"
      },
      "execution_count": 179,
      "outputs": [
        {
          "output_type": "stream",
          "name": "stdout",
          "text": [
            "\n",
            "Days with Drawdown_Pct > 5% (first 10 occurrences):\n",
            "Price           Close All_Time_High Drawdown_Pct\n",
            "Ticker          ^GSPC                           \n",
            "Date                                            \n",
            "1950-06-26  18.110001          19.4     6.649480\n",
            "1950-06-27  17.910000          19.4     7.680411\n",
            "1950-06-28  18.110001          19.4     6.649480\n",
            "1950-06-29  17.440001          19.4    10.103088\n",
            "1950-06-30  17.690001          19.4     8.814428\n",
            "1950-07-03  17.639999          19.4     9.072166\n",
            "1950-07-05  17.809999          19.4     8.195877\n",
            "1950-07-06  17.910000          19.4     7.680411\n",
            "1950-07-07  17.670000          19.4     8.917524\n",
            "1950-07-10  17.590000          19.4     9.329894\n"
          ]
        }
      ]
    },
    {
      "cell_type": "code",
      "source": [
        "correction_threshold = 5\n",
        "new_ath_dates = sp500_data[sp500_data[('Close', '^GSPC')] == sp500_data[('All_Time_High', '')]].index.tolist()\n",
        "peak_to_trough_corrections = []"
      ],
      "metadata": {
        "id": "e42DNPA184B9"
      },
      "execution_count": 181,
      "outputs": []
    },
    {
      "cell_type": "code",
      "source": [
        "# Iterate through the new ATH dates to find subsequent troughs\n",
        "for i in range(len(new_ath_dates)):\n",
        "    peak_date = new_ath_dates[i]\n",
        "    peak_price = sp500_data.loc[peak_date][('Close', '^GSPC')]\n",
        "\n",
        "    # Define the end of the current segment:\n",
        "    # It's either the next ATH date, or the end of the entire dataset if this is the last ATH\n",
        "    if i + 1 < len(new_ath_dates):\n",
        "        next_peak_date = new_ath_dates[i+1]\n",
        "        segment_data = sp500_data.loc[peak_date:next_peak_date].iloc[1:] # Exclude the current peak for finding trough\n",
        "    else:\n",
        "        segment_data = sp500_data.loc[peak_date:].iloc[1:] # To end of data\n",
        "\n",
        "    # If there's no data after the peak (e.g., last day of data is an ATH), skip\n",
        "    if segment_data.empty:\n",
        "        continue\n",
        "\n",
        "    # Find the trough (minimum close price) within this segment\n",
        "    trough_price = segment_data[('Close', '^GSPC')].min()\n",
        "    trough_date = segment_data[segment_data[('Close', '^GSPC')] == trough_price].index[0] # Get the first date if multiple min\n",
        "\n",
        "    # Calculate drawdown from peak to trough\n",
        "    drawdown_pct = ((peak_price - trough_price) / peak_price) * 100\n",
        "\n",
        "    # If drawdown meets the threshold, record the correction event\n",
        "    if drawdown_pct >= correction_threshold:\n",
        "        duration_days = (trough_date - peak_date).days\n",
        "        peak_to_trough_corrections.append({\n",
        "            'start': peak_date.date(), # Convert to date object\n",
        "            'end': trough_date.date(),   # Convert to date object\n",
        "            'duration_days': duration_days,\n",
        "            'max_drawdown_pct': drawdown_pct\n",
        "        })"
      ],
      "metadata": {
        "id": "7o4b67LlHxZ8"
      },
      "execution_count": 184,
      "outputs": []
    },
    {
      "cell_type": "code",
      "source": [
        "sorted_events = sorted(peak_to_trough_corrections, key=lambda x: x['max_drawdown_pct'], reverse=True)\n",
        "\n",
        "# Get the top 10\n",
        "top_10_corrections = sorted_events[:10]\n",
        "\n",
        "# Display them\n",
        "for i, event in enumerate(top_10_corrections, 1):\n",
        "    print(f\"{i}. Start: {event['start']}, End: {event['end']}, Duration: {event['duration_days']} days, Max Drawdown: {event['max_drawdown_pct']:.1f}%\")"
      ],
      "metadata": {
        "colab": {
          "base_uri": "https://localhost:8080/"
        },
        "id": "W5TZsbv2EM6e",
        "outputId": "cb0f42e8-615e-4a3c-ec92-4fb323dfb8aa"
      },
      "execution_count": 185,
      "outputs": [
        {
          "output_type": "stream",
          "name": "stdout",
          "text": [
            "1. Start: 2007-10-09, End: 2009-03-09, Duration: 517 days, Max Drawdown: 56.8%\n",
            "2. Start: 2000-03-24, End: 2002-10-09, Duration: 929 days, Max Drawdown: 49.1%\n",
            "3. Start: 1973-01-11, End: 1974-10-03, Duration: 630 days, Max Drawdown: 48.2%\n",
            "4. Start: 1968-11-29, End: 1970-05-26, Duration: 543 days, Max Drawdown: 36.1%\n",
            "5. Start: 2020-02-19, End: 2020-03-23, Duration: 33 days, Max Drawdown: 33.9%\n",
            "6. Start: 1987-08-25, End: 1987-12-04, Duration: 101 days, Max Drawdown: 33.5%\n",
            "7. Start: 1961-12-12, End: 1962-06-26, Duration: 196 days, Max Drawdown: 28.0%\n",
            "8. Start: 1980-11-28, End: 1982-08-12, Duration: 622 days, Max Drawdown: 27.1%\n",
            "9. Start: 2022-01-03, End: 2022-10-12, Duration: 282 days, Max Drawdown: 25.4%\n",
            "10. Start: 1966-02-09, End: 1966-10-07, Duration: 240 days, Max Drawdown: 22.2%\n"
          ]
        }
      ]
    },
    {
      "cell_type": "markdown",
      "source": [
        "The above matches what to expect given in the homework file . I had to take substanial help from Google Gemini to get this correct as i had misunderstood the problem itself"
      ],
      "metadata": {
        "id": "VY60_Of0IdIy"
      }
    },
    {
      "cell_type": "code",
      "source": [
        "correction_durations_days = [event['duration_days'] for event in peak_to_trough_corrections]\n",
        "max_drawdowns_pct = [event['max_drawdown_pct'] for event in peak_to_trough_corrections] # New list for drawdowns"
      ],
      "metadata": {
        "id": "8tXUtUtGDp2_"
      },
      "execution_count": 186,
      "outputs": []
    },
    {
      "cell_type": "code",
      "source": [
        "durations_series = pd.Series(correction_durations_days)\n",
        "max_drawdowns_series = pd.Series(max_drawdowns_pct)\n",
        "print(f\"Median (50th Percentile) Duration: {durations_series.quantile(0.50):.0f} days\")"
      ],
      "metadata": {
        "colab": {
          "base_uri": "https://localhost:8080/"
        },
        "id": "EFTRwvEw-gui",
        "outputId": "bf2228fa-5c8d-4dfb-e235-076a9bc3a289"
      },
      "execution_count": 244,
      "outputs": [
        {
          "output_type": "stream",
          "name": "stdout",
          "text": [
            "Median (50th Percentile) Duration: 40 days\n"
          ]
        }
      ]
    },
    {
      "cell_type": "markdown",
      "source": [
        "### Question 4. [Stocks] Earnings Surprise Analysis for Amazon (AMZN)\n",
        "\n",
        "Calculate the median 2-day percentage change in stock prices following positive earnings surprises days."
      ],
      "metadata": {
        "id": "zQXMSC1SJHQD"
      }
    },
    {
      "cell_type": "code",
      "source": [
        "earnings_df  = pd.read_csv(\"ha1_Amazon.csv\", delimiter=';')"
      ],
      "metadata": {
        "id": "4jwBxPbrJQGW"
      },
      "execution_count": 278,
      "outputs": []
    },
    {
      "cell_type": "code",
      "source": [
        "amzn_ticker = 'AMZN'\n",
        "amzn_price_data = yf.download(amzn_ticker, start='1990-01-01', end=datetime.now().strftime('%Y-%m-%d'))"
      ],
      "metadata": {
        "colab": {
          "base_uri": "https://localhost:8080/"
        },
        "id": "9eSYIhT0Njc_",
        "outputId": "501c1569-3307-444e-cb0d-671a927f7668"
      },
      "execution_count": 279,
      "outputs": [
        {
          "output_type": "stream",
          "name": "stderr",
          "text": [
            "\r[*********************100%***********************]  1 of 1 completed\n"
          ]
        }
      ]
    },
    {
      "cell_type": "code",
      "source": [
        "if isinstance(amzn_price_data.columns, pd.MultiIndex):\n",
        "    amzn_price_data['Close_Single'] = amzn_price_data['Close'][amzn_ticker]\n",
        "else:\n",
        "    amzn_price_data['Close_Single'] = amzn_price_data['Close']\n",
        "\n",
        "# Calculate the 2-day percentage change\n",
        "#amzn_price_data['2_Day_Change'] = amzn_price_data['Close_Single'].pct_change(periods=2)\n",
        "amzn_price_data['2_Day_Change'] = (amzn_price_data['Close_Single'] / amzn_price_data['Close_Single'].shift(2)) - 1\n"
      ],
      "metadata": {
        "id": "rkUYI10hUdw0"
      },
      "execution_count": 282,
      "outputs": []
    },
    {
      "cell_type": "code",
      "source": [
        "if amzn_price_data.index.tz is None:\n",
        "    amzn_price_data.index = amzn_price_data.index.tz_localize('UTC')\n",
        "else:\n",
        "    amzn_price_data.index = amzn_price_data.index.tz_convert('UTC')"
      ],
      "metadata": {
        "id": "mCBigPe2dH7T"
      },
      "execution_count": 284,
      "outputs": []
    },
    {
      "cell_type": "code",
      "source": [
        "initial_rows = len(earnings_df)\n",
        "earnings_df['Reported EPS'] = pd.to_numeric(earnings_df['Reported EPS'], errors='coerce')\n",
        "earnings_df['EPS Estimate'] = pd.to_numeric(earnings_df['EPS Estimate'], errors='coerce')"
      ],
      "metadata": {
        "id": "AQ2F3sqJVwR_"
      },
      "execution_count": 287,
      "outputs": []
    },
    {
      "cell_type": "code",
      "source": [
        "earnings_df.dropna(subset=['Reported EPS', 'EPS Estimate'], inplace=True)\n",
        "print(f\"Dropped {initial_rows - len(earnings_df)} rows with non-numeric EPS data.\")"
      ],
      "metadata": {
        "colab": {
          "base_uri": "https://localhost:8080/"
        },
        "id": "u1ASZx0CWBT5",
        "outputId": "a3f6c892-5ada-4f55-ed56-df589ad1e141"
      },
      "execution_count": 288,
      "outputs": [
        {
          "output_type": "stream",
          "name": "stdout",
          "text": [
            "Dropped 33 rows with non-numeric EPS data.\n"
          ]
        }
      ]
    },
    {
      "cell_type": "code",
      "source": [
        "earnings_df['Earnings Date'] = pd.to_datetime(earnings_df['Earnings Date'], errors='coerce' , utc=True)\n",
        "earnings_df.dropna(subset=['Earnings Date'], inplace=True) # Drop rows where date conversion failed\n",
        "print(f\"Dropped rows with invalid 'Earnings date'. Remaining rows: {len(earnings_df)}\")"
      ],
      "metadata": {
        "colab": {
          "base_uri": "https://localhost:8080/"
        },
        "id": "AmkMvRe8WIAu",
        "outputId": "280bcc11-bce4-4a4a-d826-40a280b51dd4"
      },
      "execution_count": 290,
      "outputs": [
        {
          "output_type": "stream",
          "name": "stdout",
          "text": [
            "Dropped rows with invalid 'Earnings date'. Remaining rows: 84\n"
          ]
        }
      ]
    },
    {
      "cell_type": "code",
      "source": [
        "positive_surprises_df = earnings_df[earnings_df['Reported EPS'] > earnings_df['EPS Estimate']].copy()\n",
        "print(f\"\\nNumber of positive earnings surprises identified: {len(positive_surprises_df)}\")"
      ],
      "metadata": {
        "colab": {
          "base_uri": "https://localhost:8080/"
        },
        "id": "8xHAwgFQW5QO",
        "outputId": "bb7f360e-cb68-429e-8a3e-4f175b12163e"
      },
      "execution_count": 291,
      "outputs": [
        {
          "output_type": "stream",
          "name": "stdout",
          "text": [
            "\n",
            "Number of positive earnings surprises identified: 33\n"
          ]
        }
      ]
    },
    {
      "cell_type": "code",
      "source": [
        "post_surprise_2day_changes = []\n",
        "matched_earnings_dates = [] # To keep track of which earnings dates were matched"
      ],
      "metadata": {
        "id": "I062xgZgcWVj"
      },
      "execution_count": 292,
      "outputs": []
    },
    {
      "cell_type": "code",
      "source": [
        "for index, row in positive_surprises_df.iterrows():\n",
        "    earnings_date_dt = row['Earnings Date']\n",
        "\n",
        "    # Find the next trading day on or after the earnings announcement\n",
        "    # Use searchsorted to find the index of the first trading day >= earnings_date_dt\n",
        "    # If earnings_date_dt is a trading day, it returns its index.\n",
        "    # If it's a weekend/holiday, it returns the index of the next trading day.\n",
        "    try:\n",
        "        # Find the location of the earnings date or the next available trading day\n",
        "        loc = amzn_price_data.index.searchsorted(earnings_date_dt, side='left')\n",
        "\n",
        "        # If loc is beyond the end of the price data, skip\n",
        "        if loc >= len(amzn_price_data):\n",
        "            # print(f\"Skipping {earnings_date_dt.date()}: No subsequent trading data.\")\n",
        "            continue\n",
        "\n",
        "        # This is our 'Day 1' of the 2-day change period (the first trading day affected by earnings)\n",
        "        day1_trading_date = amzn_price_data.index[loc]\n",
        "\n",
        "        # We need the 2-day change value that starts on day1_trading_date\n",
        "        # This value is stored at the index of day1_trading_date + 1 trading days.\n",
        "        # We need to ensure that the index `loc + 2` exists and is within bounds.\n",
        "        index_for_2day_change  = loc + 1\n",
        "\n",
        "        if index_for_2day_change  < len(amzn_price_data):\n",
        "            two_day_change = amzn_price_data['2_Day_Change'].iloc[index_for_2day_change ]\n",
        "\n",
        "            # Only append if the change is a valid number (not NaN from initial pct_change)\n",
        "            if pd.notna(two_day_change):\n",
        "                post_surprise_2day_changes.append(two_day_change)\n",
        "                matched_earnings_dates.append(earnings_date_dt.date()) # Store as date object\n",
        "\n",
        "        # else:\n",
        "            # print(f\"Skipping {earnings_date_dt.date()}: Not enough subsequent trading days for 2-day change.\")\n",
        "\n",
        "    except Exception as e:\n",
        "        print(f\"Error processing earnings date {earnings_date_dt.date()}: {e}\")\n",
        "\n",
        "print(f\"\\nCollected {len(post_surprise_2day_changes)} 2-day changes after positive surprises.\")"
      ],
      "metadata": {
        "colab": {
          "base_uri": "https://localhost:8080/"
        },
        "id": "qQgWrkgqcaCk",
        "outputId": "e7375720-0dab-4251-d35c-453babf5b6ae"
      },
      "execution_count": 293,
      "outputs": [
        {
          "output_type": "stream",
          "name": "stdout",
          "text": [
            "\n",
            "Collected 33 2-day changes after positive surprises.\n"
          ]
        }
      ]
    },
    {
      "cell_type": "code",
      "source": [
        "median_2day_change = pd.Series(post_surprise_2day_changes).median()\n",
        "print(f\"\\nMedian 2-day percentage change after positive surprises: {median_2day_change:.2%}\")"
      ],
      "metadata": {
        "colab": {
          "base_uri": "https://localhost:8080/"
        },
        "id": "cjxwMhfudhar",
        "outputId": "3b0b37e1-2a93-4630-9ed0-49b487b89eef"
      },
      "execution_count": 294,
      "outputs": [
        {
          "output_type": "stream",
          "name": "stdout",
          "text": [
            "\n",
            "Median 2-day percentage change after positive surprises: 2.01%\n"
          ]
        }
      ]
    }
  ]
}